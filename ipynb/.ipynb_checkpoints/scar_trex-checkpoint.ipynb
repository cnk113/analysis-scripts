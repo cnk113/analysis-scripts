{
 "cells": [
  {
   "cell_type": "code",
   "execution_count": 2,
   "id": "79560437-8ccc-4305-bf6c-6223ccaf6da4",
   "metadata": {},
   "outputs": [],
   "source": [
    "import numpy as np\n",
    "import pandas as pd\n",
    "import matplotlib.pyplot as plt\n",
    "import seaborn as sns\n",
    "import scanpy as sc\n",
    "import anndata as ad\n",
    "from scar import model\n",
    "\n",
    "import warnings\n",
    "warnings.simplefilter(\"ignore\")"
   ]
  },
  {
   "cell_type": "code",
   "execution_count": 3,
   "id": "5bdd8a6c-b6d6-44ff-b284-7076fa827493",
   "metadata": {},
   "outputs": [],
   "source": [
    "from matplotlib import pylab\n",
    "\n",
    "params = {'legend.fontsize': 8,\n",
    "          'figure.facecolor':\"w\",\n",
    "          'figure.figsize': (6, 4.5),\n",
    "         'axes.labelsize': 10,\n",
    "         'axes.titlesize':10,\n",
    "         'axes.linewidth': 0.5,\n",
    "         'xtick.labelsize':8,\n",
    "         'ytick.labelsize':8,\n",
    "         'axes.grid':False,}\n",
    "pylab.rc('font',**{'family':'serif','serif':['Palatino'],'size':10})\n",
    "pylab.rcParams.update(params);\n",
    "\n",
    "sns.set_palette(\"muted\");\n",
    "sns.set_style(\"ticks\");"
   ]
  },
  {
   "cell_type": "code",
   "execution_count": 171,
   "id": "29ce8ed9-7d3c-42c4-b028-fe8cbb15c734",
   "metadata": {},
   "outputs": [],
   "source": [
    "i = \"brain5_str\""
   ]
  },
  {
   "cell_type": "code",
   "execution_count": null,
   "id": "bee6013b-cb9e-4c8d-8d69-14a92a94fe18",
   "metadata": {},
   "outputs": [],
   "source": [
    "rna = '/media/chang/HDD-8/chang/cloneseq/mouse_fastqs/trex/' + i +\"/\"+ i + '/outs/raw_feature_bc_matrix.h5'\n",
    "sticr = '/media/chang/HDD-8/chang/cloneseq/mouse_fastqs/trex/' + i + '/trex_raw/umi_count_matrix.csv'\n",
    "out = '/media/chang/HDD-8/chang/cloneseq/mouse_fastqs/trex/' + i + '/assign.csv'\n",
    "gw15_rep1 = sc.read_10x_h5(filename=rna, gex_only=True) # Change this if ur using a different scRNA-seq format t\n",
    "gw15_rep1_sticr = pd.read_csv(sticr, index_col=0)\n",
    "gw15_rep1_sticr = gw15_rep1_sticr.add_suffix('-1')\n",
    "gw15_rep1_sticr_raw = gw15_rep1_sticr\n",
    "gw15_rep1.var_names_make_unique()"
   ]
  },
  {
   "cell_type": "code",
   "execution_count": null,
   "id": "5f69619a-7639-46ea-b9df-b8d8fcc90f83",
   "metadata": {},
   "outputs": [],
   "source": [
    "rank_UMIs = pd.DataFrame(gw15_rep1[:,gw15_rep1.var['feature_types']=='Gene Expression'].X.sum(axis=1), index = gw15_rep1.obs_names, columns=['total_counts'])\n",
    "rank_UMIs['droplets'] = 'cell-free droplets'\n",
    "rank_UMIs['droplets'] = rank_UMIs['droplets'].mask(rank_UMIs['total_counts']>50, 'droplet II')\n",
    "rank_UMIs['droplets'] = rank_UMIs['droplets'].mask(rank_UMIs['total_counts']>100, 'droplet I')\n",
    "rank_UMIs['droplets'] = rank_UMIs['droplets'].mask(rank_UMIs['total_counts']>500, 'cells')\n",
    "rank_UMIs = rank_UMIs.sort_values(by='total_counts', ascending=False).reset_index().rename_axis(\"rank\").reset_index()\n",
    "rank_UMIs = rank_UMIs.loc[rank_UMIs['total_counts']>0]\n",
    "rank_UMIs = rank_UMIs.set_index('index').rename_axis('cells')"
   ]
  },
  {
   "cell_type": "code",
   "execution_count": null,
   "id": "2cbc2f79-c0c3-45e9-9bff-ce6d790ba7c8",
   "metadata": {},
   "outputs": [],
   "source": [
    "plt.figure(figsize=(4, 3), dpi=150)\n",
    "\n",
    "ax = sns.lineplot(data = rank_UMIs,\n",
    "                  x='rank',\n",
    "                  y='total_counts',\n",
    "                  hue='droplets',\n",
    "                  hue_order=['cells', 'droplet I', 'droplet II', 'cell-free droplets'],\n",
    "                  palette=sns.color_palette()[-4:],\n",
    "                  markers=False,\n",
    "                  lw=2)\n",
    "\n",
    "ax.set_xscale('log')\n",
    "ax.set_yscale('log')\n",
    "ax.set_xlabel('sorted droplets');\n",
    "ax.legend(loc='lower left', ncol=1, title=None, frameon=False)\n",
    "ax.set_title(f'kneeplot: gw15_rep1');\n",
    "\n",
    "sns.set_palette(\"muted\")\n",
    "sns.set_style(\"ticks\")\n",
    "sns.despine(offset=10, trim=False);"
   ]
  },
  {
   "cell_type": "code",
   "execution_count": null,
   "id": "c4aeb518-e9f9-416a-9133-d0959e870ba9",
   "metadata": {},
   "outputs": [],
   "source": [
    "####################\n",
    "gw15_rep1_filtered = gw15_rep1[gw15_rep1.obs_names.isin(rank_UMIs[rank_UMIs['droplets']=='cells'].index)] # equal to filtered population as cellranger output\n",
    "gw15_rep1_sticr_filtered = gw15_rep1_sticr.loc[:,gw15_rep1_sticr.columns.isin(gw15_rep1_filtered.obs_names)].T # pandas.DataFrame\n",
    "gw15_rep1_sticr_filtered_empty_droplets = gw15_rep1_sticr.loc[:,gw15_rep1_sticr.columns.difference(gw15_rep1_sticr_filtered.index)].T\n",
    "gw15_rep1_sticr_filtered_empty_profile = gw15_rep1_sticr_filtered_empty_droplets.sum()/gw15_rep1_sticr_filtered_empty_droplets.sum().sum()    # pandas.Series\n",
    "scarObj = model(raw_count=gw15_rep1_sticr_filtered,\n",
    "                     ambient_profile=gw15_rep1_sticr_filtered_empty_profile.values, # In the case of default None, the empty_profile will be calculated by averaging pooled cells\n",
    "                     feature_type='sgRNAs')\n",
    "scarObj.train(epochs=400)\n",
    "####################"
   ]
  },
  {
   "cell_type": "code",
   "execution_count": null,
   "id": "a52b4978-a934-4204-a008-44064099ccee",
   "metadata": {},
   "outputs": [],
   "source": [
    "scarObj.inference(cutoff=3)\n",
    "scarObj.feature_assignment.to_csv(out)\n",
    "scarObj.feature_assignment.value_counts(\"n_sgRNAs\")"
   ]
  },
  {
   "cell_type": "code",
   "execution_count": null,
   "id": "fe4002f1-cb81-496f-a1da-2bf2e92209a6",
   "metadata": {},
   "outputs": [],
   "source": [
    "cell_num = scarObj.feature_assignment.value_counts(\"n_sgRNAs\").to_frame(\"cell numbers\").reset_index()\n",
    "\n",
    "plt.figure(figsize=(4, 3))\n",
    "\n",
    "sns.barplot(data = cell_num,\n",
    "            x = 'n_sgRNAs',\n",
    "            y = 'cell numbers'\n",
    "           );\n",
    "\n",
    "plt.xlabel(\"number of distinct sgRNAs\");\n"
   ]
  }
 ],
 "metadata": {
  "kernelspec": {
   "display_name": "venv3.8",
   "language": "python",
   "name": "venv3.8"
  },
  "language_info": {
   "codemirror_mode": {
    "name": "ipython",
    "version": 3
   },
   "file_extension": ".py",
   "mimetype": "text/x-python",
   "name": "python",
   "nbconvert_exporter": "python",
   "pygments_lexer": "ipython3",
   "version": "3.8.12"
  }
 },
 "nbformat": 4,
 "nbformat_minor": 5
}
