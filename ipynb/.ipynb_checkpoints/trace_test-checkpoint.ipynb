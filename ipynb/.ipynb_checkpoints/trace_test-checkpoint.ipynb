{
 "cells": [
  {
   "cell_type": "code",
   "execution_count": 1,
   "id": "c56f9a8d-b157-4732-8c62-22146aca1293",
   "metadata": {},
   "outputs": [],
   "source": [
    "import scanpy as sc\n",
    "import numpy as np\n",
    "from scar import model\n",
    "import pandas as pd\n",
    "import matplotlib.pyplot as plt\n",
    "import seaborn as sns\n",
    "from matplotlib import pylab"
   ]
  },
  {
   "cell_type": "code",
   "execution_count": 2,
   "id": "a2844ff2-7b84-4fc0-88a0-04e77dbab935",
   "metadata": {},
   "outputs": [],
   "source": [
    "adata = sc.read_h5ad(\"/home/chang/barcode_data.h5\")"
   ]
  },
  {
   "cell_type": "code",
   "execution_count": 3,
   "id": "5914bcab-6d0f-4fc6-b41e-3ec2c7a0de40",
   "metadata": {},
   "outputs": [
    {
     "data": {
      "text/plain": [
       "AnnData object with n_obs × n_vars = 30000 × 66833\n",
       "    obs: 'Sample', 'Barcode', 'is_cell'\n",
       "    var: 'ID'\n",
       "    uns: 'X_name'"
      ]
     },
     "execution_count": 3,
     "metadata": {},
     "output_type": "execute_result"
    }
   ],
   "source": [
    "adata"
   ]
  },
  {
   "cell_type": "code",
   "execution_count": 4,
   "id": "61805f22-9db5-4a26-aa6d-d262c0d40d0a",
   "metadata": {},
   "outputs": [
    {
     "data": {
      "text/plain": [
       "False    18893\n",
       "True     11107\n",
       "Name: is_cell, dtype: int64"
      ]
     },
     "execution_count": 4,
     "metadata": {},
     "output_type": "execute_result"
    }
   ],
   "source": [
    "adata.obs.is_cell.value_counts()"
   ]
  },
  {
   "cell_type": "code",
   "execution_count": 5,
   "id": "f03b0f0e-b551-4e58-96a1-20f028a7a451",
   "metadata": {},
   "outputs": [
    {
     "data": {
      "text/plain": [
       "View of AnnData object with n_obs × n_vars = 30000 × 66832\n",
       "    obs: 'Sample', 'Barcode', 'is_cell'\n",
       "    var: 'ID'\n",
       "    uns: 'X_name'"
      ]
     },
     "execution_count": 5,
     "metadata": {},
     "output_type": "execute_result"
    }
   ],
   "source": [
    "mk = np.in1d(adata.var_names.values.astype(str), \"unmapped\")\n",
    "adata = adata[:,~mk]\n",
    "adata"
   ]
  },
  {
   "cell_type": "code",
   "execution_count": 6,
   "id": "a722a063-b669-40b3-890b-e3d8c5f749a4",
   "metadata": {},
   "outputs": [
    {
     "data": {
      "text/plain": [
       "View of AnnData object with n_obs × n_vars = 18893 × 66832\n",
       "    obs: 'Sample', 'Barcode', 'is_cell'\n",
       "    var: 'ID'\n",
       "    uns: 'X_name'"
      ]
     },
     "execution_count": 6,
     "metadata": {},
     "output_type": "execute_result"
    }
   ],
   "source": [
    "ambient = adata[adata.obs.is_cell == False,]\n",
    "ambient"
   ]
  },
  {
   "cell_type": "code",
   "execution_count": 7,
   "id": "99d69134-7d2f-474a-b142-809d4e0122ac",
   "metadata": {},
   "outputs": [
    {
     "data": {
      "text/html": [
       "<div>\n",
       "<style scoped>\n",
       "    .dataframe tbody tr th:only-of-type {\n",
       "        vertical-align: middle;\n",
       "    }\n",
       "\n",
       "    .dataframe tbody tr th {\n",
       "        vertical-align: top;\n",
       "    }\n",
       "\n",
       "    .dataframe thead th {\n",
       "        text-align: right;\n",
       "    }\n",
       "</style>\n",
       "<table border=\"1\" class=\"dataframe\">\n",
       "  <thead>\n",
       "    <tr style=\"text-align: right;\">\n",
       "      <th></th>\n",
       "      <th>ambient profile</th>\n",
       "    </tr>\n",
       "  </thead>\n",
       "  <tbody>\n",
       "    <tr>\n",
       "      <th>BC1-CAGTGTACCAACCATGCTCAGGTAGCCTCACCTCCTGCAGTCAGTACACCAGTCATGTGCAACAC</th>\n",
       "      <td>0.000000</td>\n",
       "    </tr>\n",
       "    <tr>\n",
       "      <th>BC2-TGGTGTGTCAACGTTGCTCAGGTAGCCTCACCTCCCAACTGCAGTACACTGACCAGTCATGCACA</th>\n",
       "      <td>0.000000</td>\n",
       "    </tr>\n",
       "    <tr>\n",
       "      <th>BC3-ACGTGTTGTGGTCATGCTCAGGTAGCCTCACCTCCGTGTACACACGTTGTGCAACACTGTGCAGT</th>\n",
       "      <td>0.000000</td>\n",
       "    </tr>\n",
       "    <tr>\n",
       "      <th>BC4-CAGTGTTGTGCAACTGCTCAGGTAGCCTCACCTCCGTACCACATGCATGACGTGTACGTCACAGT</th>\n",
       "      <td>0.000006</td>\n",
       "    </tr>\n",
       "    <tr>\n",
       "      <th>BC5-TGGTGTCAGTGTTGTGCTCAGGTAGCCTCACCTCCACGTGTGTGTACACACCAGTCACATGGTTG</th>\n",
       "      <td>0.000000</td>\n",
       "    </tr>\n",
       "    <tr>\n",
       "      <th>...</th>\n",
       "      <td>...</td>\n",
       "    </tr>\n",
       "    <tr>\n",
       "      <th>BC66828-CAGTGTACACCAACTGCTCAGGTAGCCTCACCTCCTGGTACACACCAGTTGTGCATGCAACGTAC</th>\n",
       "      <td>0.000002</td>\n",
       "    </tr>\n",
       "    <tr>\n",
       "      <th>BC66829-CAGTGTACCAACCATGCTCAGGTAGCCTCACCTCCCACAACTGTGGTGTTGTGACACGTTGACCA</th>\n",
       "      <td>0.000000</td>\n",
       "    </tr>\n",
       "    <tr>\n",
       "      <th>BC66830-CAGTGTACGTTGACTGCTCAGGTAGCCTCACCTCCACGTCACAGTTGGTTGTGGTACGTACTGTG</th>\n",
       "      <td>0.000000</td>\n",
       "    </tr>\n",
       "    <tr>\n",
       "      <th>BC66831-TGGTGTTGCAGTGTTGCTCAGGTAGCCTCACCTCCACGTCAACTGGTACCAACCATGCACAACTG</th>\n",
       "      <td>0.000000</td>\n",
       "    </tr>\n",
       "    <tr>\n",
       "      <th>BC66832-ACGTGTCATGACTGTGCTCAGGTAGCCTCACCTCCACTGACTGCATGTGTGACTGTGGTACTGTG</th>\n",
       "      <td>0.000000</td>\n",
       "    </tr>\n",
       "  </tbody>\n",
       "</table>\n",
       "<p>66832 rows × 1 columns</p>\n",
       "</div>"
      ],
      "text/plain": [
       "                                                    ambient profile\n",
       "BC1-CAGTGTACCAACCATGCTCAGGTAGCCTCACCTCCTGCAGTCA...         0.000000\n",
       "BC2-TGGTGTGTCAACGTTGCTCAGGTAGCCTCACCTCCCAACTGCA...         0.000000\n",
       "BC3-ACGTGTTGTGGTCATGCTCAGGTAGCCTCACCTCCGTGTACAC...         0.000000\n",
       "BC4-CAGTGTTGTGCAACTGCTCAGGTAGCCTCACCTCCGTACCACA...         0.000006\n",
       "BC5-TGGTGTCAGTGTTGTGCTCAGGTAGCCTCACCTCCACGTGTGT...         0.000000\n",
       "...                                                             ...\n",
       "BC66828-CAGTGTACACCAACTGCTCAGGTAGCCTCACCTCCTGGT...         0.000002\n",
       "BC66829-CAGTGTACCAACCATGCTCAGGTAGCCTCACCTCCCACA...         0.000000\n",
       "BC66830-CAGTGTACGTTGACTGCTCAGGTAGCCTCACCTCCACGT...         0.000000\n",
       "BC66831-TGGTGTTGCAGTGTTGCTCAGGTAGCCTCACCTCCACGT...         0.000000\n",
       "BC66832-ACGTGTCATGACTGTGCTCAGGTAGCCTCACCTCCACTG...         0.000000\n",
       "\n",
       "[66832 rows x 1 columns]"
      ]
     },
     "execution_count": 7,
     "metadata": {},
     "output_type": "execute_result"
    }
   ],
   "source": [
    "cell_free = ambient.to_df()\n",
    "ambient_profile = cell_free.sum()/cell_free.sum().sum()\n",
    "ambient_profile = ambient_profile.to_frame(\"ambient profile\")\n",
    "ambient_profile"
   ]
  },
  {
   "cell_type": "code",
   "execution_count": 8,
   "id": "485cc534-88e2-4820-9f1c-2882f9cc53ab",
   "metadata": {},
   "outputs": [
    {
     "data": {
      "text/plain": [
       "View of AnnData object with n_obs × n_vars = 11107 × 66832\n",
       "    obs: 'Sample', 'Barcode', 'is_cell'\n",
       "    var: 'ID'\n",
       "    uns: 'X_name'"
      ]
     },
     "execution_count": 8,
     "metadata": {},
     "output_type": "execute_result"
    }
   ],
   "source": [
    "cells = adata[adata.obs.is_cell == True,]\n",
    "cells"
   ]
  },
  {
   "cell_type": "code",
   "execution_count": 10,
   "id": "288a6944-451f-4947-a245-c7db097c6998",
   "metadata": {},
   "outputs": [
    {
     "name": "stdout",
     "output_type": "stream",
     "text": [
      "..Running VAE using the following param set:\n",
      "......denoised count type:  sgRNAs\n",
      "......count model:  binomial\n",
      "......num_input_feature:  66832\n",
      "......NN_layer1:  150\n",
      "......NN_layer2:  100\n",
      "......latent_space:  15\n",
      "......dropout_prob:  0\n",
      "......expected data sparsity:  1\n",
      "......kld_weight:  1e-05\n",
      "......lr:  0.001\n",
      "......lr_step_size:  5\n",
      "......lr_gamma:  0.97\n",
      "===========================================\n",
      "  Training.....\n",
      "100%|████████████████████████████████████████████████████████████████████████████████████████████████████████████████████████████████████████████████████████████████████████████████████████████████████████████| 100/100 [47:13<00:00, 28.34s/it]\n",
      "===========================================\n",
      "  Inferring .....\n"
     ]
    }
   ],
   "source": [
    "bcs = model(raw_count = cells.to_df(),\n",
    "               ambient_profile = ambient_profile,\n",
    "               feature_type = 'sgRNAs')\n",
    "\n",
    "bcs.train(epochs=100,\n",
    "             batch_size=64,\n",
    "             verbose=True\n",
    "          )\n",
    "bcs.inference(cutoff=3)"
   ]
  },
  {
   "cell_type": "code",
   "execution_count": 11,
   "id": "36148a82-4013-44fb-a0b9-efb0ed7f906e",
   "metadata": {},
   "outputs": [
    {
     "data": {
      "text/html": [
       "<div>\n",
       "<style scoped>\n",
       "    .dataframe tbody tr th:only-of-type {\n",
       "        vertical-align: middle;\n",
       "    }\n",
       "\n",
       "    .dataframe tbody tr th {\n",
       "        vertical-align: top;\n",
       "    }\n",
       "\n",
       "    .dataframe thead th {\n",
       "        text-align: right;\n",
       "    }\n",
       "</style>\n",
       "<table border=\"1\" class=\"dataframe\">\n",
       "  <thead>\n",
       "    <tr style=\"text-align: right;\">\n",
       "      <th></th>\n",
       "      <th>sgRNAs</th>\n",
       "      <th>n_sgRNAs</th>\n",
       "    </tr>\n",
       "  </thead>\n",
       "  <tbody>\n",
       "    <tr>\n",
       "      <th>0</th>\n",
       "      <td>BC29437-CAGTGTCAACACGTTGCTCAGGTAGCCTCACCTCCCAA...</td>\n",
       "      <td>1</td>\n",
       "    </tr>\n",
       "    <tr>\n",
       "      <th>1</th>\n",
       "      <td>BC50292-TGGTGTCAGTCACATGCTCAGGTAGCCTCACCTCCTGC...</td>\n",
       "      <td>1</td>\n",
       "    </tr>\n",
       "    <tr>\n",
       "      <th>2</th>\n",
       "      <td>BC20919-ACGTGTTGTGGTCATGCTCAGGTAGCCTCACCTCCACC...</td>\n",
       "      <td>1</td>\n",
       "    </tr>\n",
       "    <tr>\n",
       "      <th>4</th>\n",
       "      <td>BC15293-ACGTGTCAGTACACTGCTCAGGTAGCCTCACCTCCACC...</td>\n",
       "      <td>1</td>\n",
       "    </tr>\n",
       "    <tr>\n",
       "      <th>7</th>\n",
       "      <td>BC51336-CAGTGTACGTTGACTGCTCAGGTAGCCTCACCTCCGTA...</td>\n",
       "      <td>1</td>\n",
       "    </tr>\n",
       "    <tr>\n",
       "      <th>...</th>\n",
       "      <td>...</td>\n",
       "      <td>...</td>\n",
       "    </tr>\n",
       "    <tr>\n",
       "      <th>29989</th>\n",
       "      <td>BC11705-GTGTGTACGTCAGTTGCTCAGGTAGCCTCACCTCCTGC...</td>\n",
       "      <td>1</td>\n",
       "    </tr>\n",
       "    <tr>\n",
       "      <th>29994</th>\n",
       "      <td>BC13130-CAGTGTGTCAACTGTGCTCAGGTAGCCTCACCTCCCAC...</td>\n",
       "      <td>1</td>\n",
       "    </tr>\n",
       "    <tr>\n",
       "      <th>29995</th>\n",
       "      <td>BC29437-CAGTGTCAACACGTTGCTCAGGTAGCCTCACCTCCCAA...</td>\n",
       "      <td>1</td>\n",
       "    </tr>\n",
       "    <tr>\n",
       "      <th>29997</th>\n",
       "      <td>BC51257-CAGTGTCAACCACATGCTCAGGTAGCCTCACCTCCACC...</td>\n",
       "      <td>1</td>\n",
       "    </tr>\n",
       "    <tr>\n",
       "      <th>29999</th>\n",
       "      <td>BC51364-ACGTGTCACAACGTTGCTCAGGTAGCCTCACCTCCCAA...</td>\n",
       "      <td>1</td>\n",
       "    </tr>\n",
       "  </tbody>\n",
       "</table>\n",
       "<p>11107 rows × 2 columns</p>\n",
       "</div>"
      ],
      "text/plain": [
       "                                                  sgRNAs n_sgRNAs\n",
       "0      BC29437-CAGTGTCAACACGTTGCTCAGGTAGCCTCACCTCCCAA...        1\n",
       "1      BC50292-TGGTGTCAGTCACATGCTCAGGTAGCCTCACCTCCTGC...        1\n",
       "2      BC20919-ACGTGTTGTGGTCATGCTCAGGTAGCCTCACCTCCACC...        1\n",
       "4      BC15293-ACGTGTCAGTACACTGCTCAGGTAGCCTCACCTCCACC...        1\n",
       "7      BC51336-CAGTGTACGTTGACTGCTCAGGTAGCCTCACCTCCGTA...        1\n",
       "...                                                  ...      ...\n",
       "29989  BC11705-GTGTGTACGTCAGTTGCTCAGGTAGCCTCACCTCCTGC...        1\n",
       "29994  BC13130-CAGTGTGTCAACTGTGCTCAGGTAGCCTCACCTCCCAC...        1\n",
       "29995  BC29437-CAGTGTCAACACGTTGCTCAGGTAGCCTCACCTCCCAA...        1\n",
       "29997  BC51257-CAGTGTCAACCACATGCTCAGGTAGCCTCACCTCCACC...        1\n",
       "29999  BC51364-ACGTGTCACAACGTTGCTCAGGTAGCCTCACCTCCCAA...        1\n",
       "\n",
       "[11107 rows x 2 columns]"
      ]
     },
     "execution_count": 11,
     "metadata": {},
     "output_type": "execute_result"
    }
   ],
   "source": [
    "bcs.feature_assignment"
   ]
  },
  {
   "cell_type": "code",
   "execution_count": 12,
   "id": "f0f7aaa2-badc-4cfe-9a88-402591b48a74",
   "metadata": {},
   "outputs": [
    {
     "data": {
      "text/plain": [
       "<Figure size 400x300 with 0 Axes>"
      ]
     },
     "metadata": {},
     "output_type": "display_data"
    }
   ],
   "source": [
    "params = {'legend.fontsize': 6,\n",
    "          'legend.title_fontsize': 8,\n",
    "          'figure.facecolor':\"w\",\n",
    "          'figure.figsize': (4, 3),\n",
    "         'axes.labelsize': 10,\n",
    "         'axes.titlesize':10,\n",
    "         'axes.linewidth': 0.5,\n",
    "         'xtick.labelsize':10,\n",
    "         'ytick.labelsize':10,\n",
    "         'axes.grid':False,}\n",
    "\n",
    "pylab.rc('font',**{'family':'serif','serif':['Palatino'],'size':10})\n",
    "pylab.rcParams.update(params);\n",
    "\n",
    "sns.set_palette(\"muted\");\n",
    "sns.set_style(\"ticks\");\n",
    "sns.despine(offset=4, trim=True);"
   ]
  },
  {
   "cell_type": "code",
   "execution_count": 24,
   "id": "d958dde4-6726-4f1f-aac3-df2273f88912",
   "metadata": {},
   "outputs": [
    {
     "data": {
      "image/png": "[encoded data removed]",
      "text/plain": [
       "<Figure size 1000x600 with 1 Axes>"
      ]
     },
     "metadata": {},
     "output_type": "display_data"
    }
   ],
   "source": [
    "cell_num = bcs.feature_assignment.value_counts(\"n_sgRNAs\").to_frame(\"cell numbers\").reset_index()\n",
    "\n",
    "plt.figure(figsize=(10, 6))\n",
    "sns.barplot(data = cell_num,\n",
    "            x = 'n_sgRNAs',\n",
    "            y = 'cell numbers'\n",
    "           );\n",
    "plt.yscale('log',base=10) \n",
    "plt.xlabel(\"number of distinct BCs\");\n"
   ]
  },
  {
   "cell_type": "code",
   "execution_count": 25,
   "id": "db6517f9-18bd-4714-a100-4284f7d82dfc",
   "metadata": {},
   "outputs": [
    {
     "name": "stdout",
     "output_type": "stream",
     "text": [
      "===========================================\n",
      "  Inferring .....\n"
     ]
    },
    {
     "data": {
      "image/png": "[encoded data removed]",
      "text/plain": [
       "<Figure size 1000x600 with 1 Axes>"
      ]
     },
     "metadata": {},
     "output_type": "display_data"
    }
   ],
   "source": [
    "bcs.inference(cutoff=10)\n",
    "\n",
    "\n",
    "cell_num = bcs.feature_assignment.value_counts(\"n_sgRNAs\").to_frame(\"cell numbers\").reset_index()\n",
    "\n",
    "plt.figure(figsize=(10, 6))\n",
    "sns.barplot(data = cell_num,\n",
    "            x = 'n_sgRNAs',\n",
    "            y = 'cell numbers'\n",
    "           );\n",
    "plt.yscale('log',base=10) \n",
    "plt.xlabel(\"number of distinct BCs\");\n"
   ]
  },
  {
   "cell_type": "code",
   "execution_count": null,
   "id": "74e74616-2f7d-4926-b8bd-f48d0295ef8e",
   "metadata": {},
   "outputs": [],
   "source": []
  }
 ],
 "metadata": {
  "kernelspec": {
   "display_name": "venv",
   "language": "python",
   "name": "venv"
  },
  "language_info": {
   "codemirror_mode": {
    "name": "ipython",
    "version": 3
   },
   "file_extension": ".py",
   "mimetype": "text/x-python",
   "name": "python",
   "nbconvert_exporter": "python",
   "pygments_lexer": "ipython3",
   "version": "3.8.13"
  }
 },
 "nbformat": 4,
 "nbformat_minor": 5
}
