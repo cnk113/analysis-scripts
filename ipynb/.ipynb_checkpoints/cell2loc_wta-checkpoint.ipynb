{
 "cells": [
  {
   "cell_type": "code",
   "execution_count": 1,
   "id": "9cea9d19-9340-4739-b4ba-f1dfedd258c8",
   "metadata": {},
   "outputs": [
    {
     "name": "stderr",
     "output_type": "stream",
     "text": [
      "Global seed set to 0\n"
     ]
    }
   ],
   "source": [
    "import sys,os\n",
    "import pickle\n",
    "import anndata\n",
    "import pandas as pd\n",
    "import numpy as np\n",
    "import matplotlib.pyplot as plt\n",
    "import scanpy as sc\n",
    "from IPython.display import Image\n",
    "data_type = 'float32'\n",
    "import cell2location"
   ]
  },
  {
   "cell_type": "code",
   "execution_count": null,
   "id": "244c802d-f59c-413c-b17c-c186920e8999",
   "metadata": {},
   "outputs": [],
   "source": [
    "meanExpression_sc = pd.read_csv(\"/media/chang/HDD-1/chang/fastqs/aneu/spatial/mean_exp.csv\", index_col=0)\n"
   ]
  }
 ],
 "metadata": {
  "kernelspec": {
   "display_name": "venv3.8",
   "language": "python",
   "name": "venv3.8"
  },
  "language_info": {
   "codemirror_mode": {
    "name": "ipython",
    "version": 3
   },
   "file_extension": ".py",
   "mimetype": "text/x-python",
   "name": "python",
   "nbconvert_exporter": "python",
   "pygments_lexer": "ipython3",
   "version": "3.8.13"
  }
 },
 "nbformat": 4,
 "nbformat_minor": 5
}
