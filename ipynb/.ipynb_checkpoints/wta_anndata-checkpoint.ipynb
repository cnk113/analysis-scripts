{
 "cells": [
  {
   "cell_type": "code",
   "execution_count": 1,
   "id": "b19ee0f7-5749-448a-b571-2958d8e82a37",
   "metadata": {},
   "outputs": [],
   "source": [
    "import scanpy as sc\n",
    "import anndata\n",
    "import pandas as pd\n",
    "import numpy as np"
   ]
  },
  {
   "cell_type": "code",
   "execution_count": 2,
   "id": "c838717a-1527-4d50-a079-31fe6d316e06",
   "metadata": {},
   "outputs": [],
   "source": [
    "def wta_to_AnnData(data_path, target_counts_file, probe_counts_file, feature_annotations_file,\n",
    "                   sample_annotations_file, saving = 'AnnData', returning = False):\n",
    "\n",
    "    target_counts_path = data_path + target_counts_file\n",
    "    probe_counts_path = data_path + probe_counts_file\n",
    "    feature_annotations_path = data_path + feature_annotations_file\n",
    "    sample_annotations_path = data_path + sample_annotations_file\n",
    "    \n",
    "    target_counts = pd.read_table(target_counts_path, index_col=0)\n",
    "    probe_counts = pd.read_table(probe_counts_path, index_col=0)\n",
    "    feature_annotations = pd.read_table(feature_annotations_path, index_col=0)\n",
    "    sample_annotations = pd.read_table(sample_annotations_path)\n",
    "    \n",
    "    sample_annotations.index = sample_annotations['SegmentDisplayName']\n",
    "    sample_annotations = sample_annotations.loc[target_counts.columns,:]\n",
    "    \n",
    "    negative_probe_names = np.array(feature_annotations['ProbeID'].loc[feature_annotations['Negative']])\n",
    "    negative_probe_counts = probe_counts.loc[negative_probe_names,:]\n",
    "    negative_probe_counts = negative_probe_counts.loc[:,target_counts.columns]\n",
    "    \n",
    "    feature_annotations.index = feature_annotations['TargetName']\n",
    "    feature_annotations = feature_annotations[~feature_annotations['Negative']]\n",
    "    target_counts = target_counts.loc[feature_annotations.index,:]\n",
    "    \n",
    "    adata = sc.AnnData(X = np.array(target_counts).T)\n",
    "    adata.var_names = target_counts.index\n",
    "    adata.var = feature_annotations\n",
    "    adata.obs = sample_annotations\n",
    "    adata.obsm['negProbes'] = np.array(negative_probe_counts.T)\n",
    "    \n",
    "    adata.obs.index = range(len(adata.obs.index))\n",
    "    adata.var.index = range(len(adata.var.index))\n",
    "    \n",
    "    adata.var_names = np.array(adata.var['TargetName'])\n",
    "    \n",
    "    if saving:\n",
    "        adata.write(data_path + saving)\n",
    "    \n",
    "    if returning:\n",
    "        return adata"
   ]
  },
  {
   "cell_type": "code",
   "execution_count": null,
   "id": "856a09c7-0ffd-4bf6-bb16-32daa14d8a42",
   "metadata": {},
   "outputs": [],
   "source": [
    "wta_to_AnnData(data_path = '/nfs/team283/aa16/data/Kidney-Nanostring/',\n",
    "               target_counts_file = 'Kidney_Raw_TargetCountMatrix.txt',\n",
    "               probe_counts_file = 'Kidney_Raw_BioProbeCountMatrix.txt',\n",
    "               feature_annotations_file = 'Kidney_Feature_Annotations.txt',\n",
    "               sample_annotations_file = 'Kidney_Sample_Annotations.txt',\n",
    "               saving = 'Kidney_AnnData.h5ad',\n",
    "               returning = False)"
   ]
  }
 ],
 "metadata": {
  "kernelspec": {
   "display_name": "venv3.8",
   "language": "python",
   "name": "venv3.8"
  },
  "language_info": {
   "codemirror_mode": {
    "name": "ipython",
    "version": 3
   },
   "file_extension": ".py",
   "mimetype": "text/x-python",
   "name": "python",
   "nbconvert_exporter": "python",
   "pygments_lexer": "ipython3",
   "version": "3.8.13"
  }
 },
 "nbformat": 4,
 "nbformat_minor": 5
}
