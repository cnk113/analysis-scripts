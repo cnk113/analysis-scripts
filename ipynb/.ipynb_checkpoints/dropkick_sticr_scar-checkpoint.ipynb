{
 "cells": [
  {
   "cell_type": "code",
   "execution_count": 111,
   "id": "8f489873-33be-44f5-a70c-cb2d77a2a581",
   "metadata": {},
   "outputs": [],
   "source": [
    "import scanpy as sc\n",
    "import anndata\n",
    "import sys\n",
    "import numpy as np\n",
    "import dropkick as dk\n",
    "import pandas as pd\n",
    "import scanpy as sc\n",
    "import doubletdetection\n",
    "from scar import model\n",
    "from scipy import sparse"
   ]
  },
  {
   "cell_type": "code",
   "execution_count": 4,
   "id": "5b5c6cc8-d593-45bd-9d9b-15cd3a145be2",
   "metadata": {},
   "outputs": [],
   "source": [
    "def buildAnndataFromStar(path, barcode_path=None, output=None):\n",
    "    \"\"\"Generate an anndata object from the STAR aligner output folder\"\"\"\n",
    "    path=path\n",
    "    # Load Read Counts\n",
    "    X = sc.read_mtx(path+'GeneFull_Ex50pAS/raw/matrix.mtx')\n",
    "\n",
    "    # Transpose counts matrix to have Cells as rows and Genes as cols as expected by AnnData objects\n",
    "    X = X.X.transpose()\n",
    "\n",
    "    # Load the 3 matrices containing Spliced, Unspliced and Ambigous reads\n",
    "    mtxU = np.loadtxt(path+'Velocyto/raw/unspliced.mtx', skiprows=3, delimiter=' ')\n",
    "    mtxS = np.loadtxt(path+'Velocyto/raw/spliced.mtx', skiprows=3, delimiter=' ')\n",
    "    mtxA = np.loadtxt(path+'Velocyto/raw/ambiguous.mtx', skiprows=3, delimiter=' ')\n",
    "\n",
    "    # Extract sparse matrix shape informations from the third row\n",
    "    shapeU = np.loadtxt(path+'Velocyto/raw/unspliced.mtx', skiprows=2, max_rows = 1 ,delimiter=' ')[0:2].astype(int)\n",
    "    shapeS = np.loadtxt(path+'Velocyto/raw/spliced.mtx', skiprows=2, max_rows = 1 ,delimiter=' ')[0:2].astype(int)\n",
    "    shapeA = np.loadtxt(path+'Velocyto/raw/ambiguous.mtx', skiprows=2, max_rows = 1 ,delimiter=' ')[0:2].astype(int)\n",
    "\n",
    "    # Read the sparse matrix with csr_matrix((data, (row_ind, col_ind)), shape=(M, N))\n",
    "    # Subract -1 to rows and cols index because csr_matrix expects a 0 based index\n",
    "    # Traspose counts matrix to have Cells as rows and Genes as cols as expected by AnnData objects\n",
    "\n",
    "    spliced = sparse.csr_matrix((mtxS[:,2], (mtxS[:,0]-1, mtxS[:,1]-1)), shape = shapeS).transpose()\n",
    "    unspliced = sparse.csr_matrix((mtxU[:,2], (mtxU[:,0]-1, mtxU[:,1]-1)), shape = shapeU).transpose()\n",
    "    ambiguous = sparse.csr_matrix((mtxA[:,2], (mtxA[:,0]-1, mtxA[:,1]-1)), shape = shapeA).transpose()\n",
    "\n",
    "    # Load Genes and Cells identifiers\n",
    "    obs = pd.read_csv(path+'GeneFull_Ex50pAS/raw/barcodes.tsv',\n",
    "                  header = None, index_col = 0)\n",
    "\n",
    "    # Remove index column name to make it compliant with the anndata format\n",
    "    obs.index.name = None\n",
    "\n",
    "    var = pd.read_csv(path+'GeneFull_Ex50pAS/raw/features.tsv', sep='\\t',\n",
    "                                    names = ('gene_ids', 'feature_types'), index_col = 1)\n",
    "  \n",
    "    # Build AnnData object to be used with ScanPy and ScVelo\n",
    "    adata = anndata.AnnData(X = X, obs = obs, var = var,\n",
    "                            layers = {'spliced': spliced, 'unspliced': unspliced, 'ambiguous': ambiguous})\n",
    "    adata.var_names_make_unique()\n",
    "\n",
    "    # Run dropkick\n",
    "    adata_model = dk.dropkick(adata, n_jobs=5)    \n",
    "\n",
    "    # Run scAR\n",
    "    cell_free = adata[adata.obs[\"dropkick_label\"] == \"False\"]\n",
    "    # average and normalize the transcript in cell-free droplets.\n",
    "    ambient_profile = pd.DataFrame((cell_free.X.sum(axis=0)/cell_free.X.sum()).A1, index=adata.var.index)\n",
    "    \n",
    "    adata = adata[adata.obs[\"dropkick_label\"] == \"True\"]\n",
    "    raw_counts = adata.to_df()\n",
    "    \n",
    "    scar = model(raw_count = raw_counts,\n",
    "                 ambient_profile = ambient_profile,\n",
    "                 feature_type='mRNA',\n",
    "                 sparsity=1)\n",
    "    scar.train(epochs=400,\n",
    "               batch_size=64,\n",
    "               verbose=True)\n",
    "    scar.inference() \n",
    "        \n",
    "    adata.layers['scar'] = sparse.csr_matrix(pd.DataFrame(scar.native_counts, \n",
    "                                                          index=raw_counts.index, \n",
    "                                                          columns=raw_counts.columns))\n",
    "    \n",
    "    if barcode_path:\n",
    "        bc_tsv = pd.read_csv(barcode_path, sep='\\t', header=0, index_col=1)\n",
    "        df = pd.DataFrame(0, index=bc_tsv.index.unique(),columns=bc_tsv.CBC.unique())\n",
    "        for index, row in bc_tsv.iterrows():\n",
    "            df.loc[index,row.CBC] = row.UMI_Count\n",
    "            \n",
    "        raw_counts = df[df.columns.intersection(adata.obs.index)]\n",
    "        cell_free = df.drop(df.columns.intersection(raw_counts.columns), axis=1)\n",
    "        ambient_profile = cell_free.T.sum()/cell_free.T.sum().sum()\n",
    "        ambient_profile = ambient_profile.to_frame(\"ambient profile\")\n",
    "        \n",
    "        sgRNAs = model(raw_count = raw_counts.T,\n",
    "               ambient_profile = ambient_profile,\n",
    "               feature_type = 'sgRNAs')\n",
    "\n",
    "        sgRNAs.train(epochs=100,\n",
    "             batch_size=64,\n",
    "             verbose=True)\n",
    "        \n",
    "        # Subset based on overlap\n",
    "        adata = adata[raw_counts.columns]\n",
    "        \n",
    "        sgRNAs.inference(cutoff=3)\n",
    "        adata.obsm[\"X_scar_assignment_3\"] = sgRNAs.feature_assignment \n",
    "        \n",
    "        sgRNAs.inference(cutoff=10)\n",
    "        adata.obsm[\"X_scar_assignment_10\"] = sgRNAs.feature_assignment\n",
    "    \n",
    "    # Doublet detection\n",
    "    clf = doubletdetection.BoostClassifier(\n",
    "        n_iters=25,\n",
    "        clustering_algorithm=\"leiden\",\n",
    "        standard_scaling=True,\n",
    "        pseudocount=0.1,\n",
    "        n_jobs=-1)\n",
    "    adata.obs[\"doublet\"] = clf.fit(adata.layers['scar']).predict()\n",
    "    adata.obs[\"doublet_score\"] = clf.doublet_score()\n",
    "    \n",
    "    if output:\n",
    "        sc.write(output)\n",
    "    else:\n",
    "        return adata.copy()"
   ]
  },
  {
   "cell_type": "code",
   "execution_count": null,
   "id": "5bf9b4c0-9f64-452f-8775-842854f22de2",
   "metadata": {},
   "outputs": [],
   "source": [
    "x = buildAnndataFromStar(\"/media/chang/HDD-8/chang/cloneseq/fastqs/GW15_rep1/GW15_rep1_tube1/GW15_rep1_tube1_Solo.out/\")"
   ]
  },
  {
   "cell_type": "code",
   "execution_count": 46,
   "id": "f9a8aeca-edbe-417f-86fb-12b4739785b9",
   "metadata": {},
   "outputs": [
    {
     "name": "stderr",
     "output_type": "stream",
     "text": [
      "/home/chang/miniconda3/envs/venv/lib/python3.8/site-packages/anndata/_core/anndata.py:1830: UserWarning: Variable names are not unique. To make them unique, call `.var_names_make_unique`.\n",
      "  utils.warn_names_duplicates(\"var\")\n",
      "/home/chang/miniconda3/envs/venv/lib/python3.8/site-packages/anndata/_core/anndata.py:1830: UserWarning: Variable names are not unique. To make them unique, call `.var_names_make_unique`.\n",
      "  utils.warn_names_duplicates(\"var\")\n",
      "/home/chang/miniconda3/envs/venv/lib/python3.8/site-packages/anndata/_core/anndata.py:1830: UserWarning: Variable names are not unique. To make them unique, call `.var_names_make_unique`.\n",
      "  utils.warn_names_duplicates(\"var\")\n"
     ]
    },
    {
     "name": "stdout",
     "output_type": "stream",
     "text": [
      "Ignoring 6722589 barcodes with less than 50 genes detected\n",
      "Ignoring 4997 genes with zero total counts\n"
     ]
    },
    {
     "name": "stderr",
     "output_type": "stream",
     "text": [
      "/home/chang/miniconda3/envs/venv/lib/python3.8/site-packages/anndata/_core/anndata.py:1830: UserWarning: Variable names are not unique. To make them unique, call `.var_names_make_unique`.\n",
      "  utils.warn_names_duplicates(\"var\")\n"
     ]
    },
    {
     "name": "stdout",
     "output_type": "stream",
     "text": [
      "Top 10 ambient genes have dropout rates between 14.451 and 59.357 percent:\n",
      "\t['MALAT1', 'TUBA1A', 'EEF1A1', 'MT-CO3', 'TMSB10', 'MT-CO2', 'TMSB4X', 'MT-CO1', 'MT-ATP6', 'MT-CYB']\n",
      "Determining 2000 highly variable genes\n",
      "Setting arcsinh_norm layer to .X\n",
      "Thresholding on heuristics for training labels:\n",
      "\t['arcsinh_n_genes_by_counts']\n"
     ]
    },
    {
     "name": "stderr",
     "output_type": "stream",
     "text": [
      "/home/chang/miniconda3/envs/venv/lib/python3.8/site-packages/anndata/_core/anndata.py:1830: UserWarning: Variable names are not unique. To make them unique, call `.var_names_make_unique`.\n",
      "  utils.warn_names_duplicates(\"var\")\n"
     ]
    },
    {
     "name": "stdout",
     "output_type": "stream",
     "text": [
      "Ignoring 54763 barcodes below first threshold on arcsinh_n_genes_by_counts\n",
      "Training dropkick with alphas:\n",
      "\t[0.1]\n"
     ]
    },
    {
     "name": "stderr",
     "output_type": "stream",
     "text": [
      "[Parallel(n_jobs=5)]: Using backend ThreadingBackend with 5 concurrent workers.\n",
      "/home/chang/miniconda3/envs/venv/lib/python3.8/site-packages/anndata/_core/anndata.py:1830: UserWarning: Variable names are not unique. To make them unique, call `.var_names_make_unique`.\n",
      "  utils.warn_names_duplicates(\"var\")\n",
      "[Parallel(n_jobs=5)]: Done   2 out of   5 | elapsed:  1.1min remaining:  1.6min\n",
      "[Parallel(n_jobs=5)]: Done   5 out of   5 | elapsed:  1.1min finished\n"
     ]
    },
    {
     "name": "stdout",
     "output_type": "stream",
     "text": [
      "Chosen lambda value:\n",
      "\t[0.00819879]\n",
      "Assigning scores and labels\n",
      "Done!\n",
      "\n"
     ]
    }
   ],
   "source": [
    "path = \"/media/chang/HDD-8/chang/cloneseq/fastqs/GW15_rep1/GW15_rep1_tube1/GW15_rep1_tube1_Solo.out/\"\n",
    "\n",
    "X = sc.read_mtx(path+'GeneFull_Ex50pAS/raw/matrix.mtx')\n",
    "\n",
    "# Transpose counts matrix to have Cells as rows and Genes as cols as expected by AnnData objects\n",
    "X = X.X.transpose()\n",
    "\n",
    "# Load Genes and Cells identifiers\n",
    "obs = pd.read_csv(path+'GeneFull_Ex50pAS/raw/barcodes.tsv',\n",
    "                  header = None, index_col = 0)\n",
    "\n",
    "# Remove index column name to make it compliant with the anndata format\n",
    "obs.index.name = None\n",
    "\n",
    "var = pd.read_csv(path+'GeneFull_Ex50pAS/raw/features.tsv', sep='\\t',\n",
    "                                    names = ('gene_ids', 'feature_types'), index_col = 1)\n",
    "\n",
    "# Build AnnData object to be used with ScanPy and ScVelo\n",
    "adata = anndata.AnnData(X = X, obs = obs, var = var)\n",
    "\n",
    "adata_model = dk.dropkick(adata, n_jobs=5) \n",
    "\n",
    "cell_free = adata[adata.obs[\"dropkick_label\"] == \"False\"]\n",
    "# average and normalize the transcript in cell-free droplets.\n",
    "ambient_profile = pd.DataFrame((cell_free.X.sum(axis=0)/cell_free.X.sum()).A1, index=adata.var.index)"
   ]
  },
  {
   "cell_type": "code",
   "execution_count": 47,
   "id": "8f45fc2b-9018-423a-9f65-4a2630b2ff6f",
   "metadata": {},
   "outputs": [
    {
     "name": "stdout",
     "output_type": "stream",
     "text": [
      "..Running VAE using the following param set:\n",
      "......denoised count type:  mRNA\n",
      "......count model:  binomial\n",
      "......num_input_feature:  36385\n",
      "......NN_layer1:  150\n",
      "......NN_layer2:  100\n",
      "......latent_space:  15\n",
      "......dropout_prob:  0\n",
      "......expected data sparsity:  1\n",
      "......kld_weight:  1e-05\n",
      "......lr:  0.001\n",
      "......lr_step_size:  5\n",
      "......lr_gamma:  0.97\n",
      "===========================================\n",
      "  Training.....\n",
      "100%|██████████████████████████████████████████████████████████████████████████████████████████████████████████████████████████████████████████████████████████████████████████████████████████████████████████████| 200/200 [10:52<00:00,  3.26s/it]\n"
     ]
    }
   ],
   "source": [
    "scar = model(raw_count = adata[adata.obs[\"dropkick_label\"] == \"True\"].to_df(),\n",
    "             ambient_profile = ambient_profile,\n",
    "             feature_type='mRNA',\n",
    "             sparsity=1)\n",
    "scar.train(epochs=200,\n",
    "           batch_size=64,\n",
    "           verbose=True)\n",
    "scar.inference() "
   ]
  },
  {
   "cell_type": "code",
   "execution_count": 52,
   "id": "d2c2e2df-8d6a-4bc2-8e1b-2cad063a045f",
   "metadata": {},
   "outputs": [
    {
     "name": "stdout",
     "output_type": "stream",
     "text": [
      "===========================================\n",
      "  Inferring .....\n"
     ]
    }
   ],
   "source": [
    "scar.inference() "
   ]
  },
  {
   "cell_type": "code",
   "execution_count": 54,
   "id": "0a8cef0d-b079-4dae-afe0-21a400cd621f",
   "metadata": {},
   "outputs": [],
   "source": [
    "denoised_count = pd.DataFrame(scar.native_counts, \n",
    "                              index=adata[adata.obs[\"dropkick_label\"] == \"True\"].to_df().index, \n",
    "                              columns=adata[adata.obs[\"dropkick_label\"] == \"True\"].to_df().columns)"
   ]
  },
  {
   "cell_type": "code",
   "execution_count": 75,
   "id": "19603aa3-b8b6-4626-824f-aeb7ad760076",
   "metadata": {},
   "outputs": [],
   "source": [
    "adata = adata[adata.obs[\"dropkick_label\"] == \"True\"]\n",
    "adata.layers['scar'] = sparse.csr_matrix(denoised_count)"
   ]
  },
  {
   "cell_type": "code",
   "execution_count": 83,
   "id": "be4b5a60-3ff6-4854-858a-ce9304d33086",
   "metadata": {},
   "outputs": [
    {
     "data": {
      "text/plain": [
       "<17004x36385 sparse matrix of type '<class 'numpy.float64'>'\n",
       "\twith 55360356 stored elements in Compressed Sparse Row format>"
      ]
     },
     "execution_count": 83,
     "metadata": {},
     "output_type": "execute_result"
    }
   ],
   "source": [
    "adata.layers['scar']"
   ]
  },
  {
   "cell_type": "code",
   "execution_count": 65,
   "id": "44693860-ac2d-4585-9eb2-bc7451c15898",
   "metadata": {},
   "outputs": [],
   "source": [
    "barcode_path = \"/media/chang/HDD-8/chang/cloneseq/final/GW15_Rep1_Tube1_Final_Barcodes.tsv\"\n",
    "bc_tsv = pd.read_csv(barcode_path, sep='\\t', header=0, index_col = 1)\n",
    "df = pd.DataFrame(0, index=bc_tsv.index.unique(),columns=bc_tsv.CBC.unique())\n",
    "for index, row in bc_tsv.iterrows():\n",
    "    df.loc[index,row.CBC] = row.UMI_Count"
   ]
  },
  {
   "cell_type": "code",
   "execution_count": 87,
   "id": "5774a028-0b71-48d6-a160-ac9b3e337140",
   "metadata": {},
   "outputs": [
    {
     "data": {
      "text/plain": [
       "(3975, 76649)"
      ]
     },
     "execution_count": 87,
     "metadata": {},
     "output_type": "execute_result"
    }
   ],
   "source": [
    "df.shape"
   ]
  },
  {
   "cell_type": "code",
   "execution_count": 102,
   "id": "3af540e5-0ac6-4d39-857e-e978a4043c0a",
   "metadata": {},
   "outputs": [
    {
     "data": {
      "text/plain": [
       "(3975, 16127)"
      ]
     },
     "execution_count": 102,
     "metadata": {},
     "output_type": "execute_result"
    }
   ],
   "source": [
    "raw_bc = df[df.columns.intersection(adata.obs.index)]\n",
    "raw_bc.shape"
   ]
  },
  {
   "cell_type": "code",
   "execution_count": 110,
   "id": "7dd7e0c1-d770-4a99-9d15-ed8a282f7666",
   "metadata": {},
   "outputs": [
    {
     "ename": "AttributeError",
     "evalue": "'Index' object has no attribute 'index'",
     "output_type": "error",
     "traceback": [
      "\u001b[0;31m---------------------------------------------------------------------------\u001b[0m",
      "\u001b[0;31mAttributeError\u001b[0m                            Traceback (most recent call last)",
      "Cell \u001b[0;32mIn [110], line 1\u001b[0m\n\u001b[0;32m----> 1\u001b[0m \u001b[43mraw_bc\u001b[49m\u001b[38;5;241;43m.\u001b[39;49m\u001b[43mcolumns\u001b[49m\u001b[38;5;241;43m.\u001b[39;49m\u001b[43mindex\u001b[49m\n",
      "\u001b[0;31mAttributeError\u001b[0m: 'Index' object has no attribute 'index'"
     ]
    }
   ],
   "source": [
    "raw_bc.columns."
   ]
  },
  {
   "cell_type": "code",
   "execution_count": 88,
   "id": "e7e8691d-7985-45c3-9e04-87ee325e605b",
   "metadata": {},
   "outputs": [
    {
     "data": {
      "text/plain": [
       "(3975, 60522)"
      ]
     },
     "execution_count": 88,
     "metadata": {},
     "output_type": "execute_result"
    }
   ],
   "source": [
    "cell_free = df.drop(df.columns.intersection(raw_bc.columns), axis=1)\n",
    "cell_free.shape"
   ]
  },
  {
   "cell_type": "code",
   "execution_count": 99,
   "id": "cf9f19d5-afbf-46d3-b03c-e61c0a822857",
   "metadata": {},
   "outputs": [],
   "source": [
    "ambient_profile = cell_free.T.sum()/cell_free.T.sum().sum()\n",
    "ambient_profile = ambient_profile.to_frame(\"ambient profile\")"
   ]
  },
  {
   "cell_type": "code",
   "execution_count": 100,
   "id": "9fa5330c-5ae1-499b-8cbb-158586053b3e",
   "metadata": {},
   "outputs": [
    {
     "data": {
      "text/html": [
       "<div>\n",
       "<style scoped>\n",
       "    .dataframe tbody tr th:only-of-type {\n",
       "        vertical-align: middle;\n",
       "    }\n",
       "\n",
       "    .dataframe tbody tr th {\n",
       "        vertical-align: top;\n",
       "    }\n",
       "\n",
       "    .dataframe thead th {\n",
       "        text-align: right;\n",
       "    }\n",
       "</style>\n",
       "<table border=\"1\" class=\"dataframe\">\n",
       "  <thead>\n",
       "    <tr style=\"text-align: right;\">\n",
       "      <th></th>\n",
       "      <th>ambient profile</th>\n",
       "    </tr>\n",
       "    <tr>\n",
       "      <th>barcode</th>\n",
       "      <th></th>\n",
       "    </tr>\n",
       "  </thead>\n",
       "  <tbody>\n",
       "    <tr>\n",
       "      <th>IndexE_Bit1_F_155-Bit2_F_042-Bit3_F_446</th>\n",
       "      <td>0.002119</td>\n",
       "    </tr>\n",
       "    <tr>\n",
       "      <th>IndexE_Bit1_F_463-Bit2_F_150-Bit3_F_067</th>\n",
       "      <td>0.000900</td>\n",
       "    </tr>\n",
       "    <tr>\n",
       "      <th>IndexE_Bit1_F_063-Bit2_F_372-Bit3_F_369</th>\n",
       "      <td>0.001067</td>\n",
       "    </tr>\n",
       "    <tr>\n",
       "      <th>IndexE_Bit1_F_408-Bit2_F_030-Bit3_F_263</th>\n",
       "      <td>0.000637</td>\n",
       "    </tr>\n",
       "    <tr>\n",
       "      <th>IndexE_Bit1_F_215-Bit2_F_317-Bit3_F_302</th>\n",
       "      <td>0.001898</td>\n",
       "    </tr>\n",
       "    <tr>\n",
       "      <th>...</th>\n",
       "      <td>...</td>\n",
       "    </tr>\n",
       "    <tr>\n",
       "      <th>Index1_Bit1_F_214-Bit2_F_095-Bit3_F_335</th>\n",
       "      <td>0.000000</td>\n",
       "    </tr>\n",
       "    <tr>\n",
       "      <th>Index1_Bit1_F_438-Bit2_F_087-Bit3_F_366</th>\n",
       "      <td>0.000000</td>\n",
       "    </tr>\n",
       "    <tr>\n",
       "      <th>Index1_Bit1_F_016-Bit2_F_111-Bit3_F_387</th>\n",
       "      <td>0.000014</td>\n",
       "    </tr>\n",
       "    <tr>\n",
       "      <th>IndexE_Bit1_F_439-Bit2_F_252-Bit3_F_186</th>\n",
       "      <td>0.000014</td>\n",
       "    </tr>\n",
       "    <tr>\n",
       "      <th>IndexE_Bit1_F_238-Bit2_F_363-Bit3_F_163</th>\n",
       "      <td>0.000000</td>\n",
       "    </tr>\n",
       "  </tbody>\n",
       "</table>\n",
       "<p>3975 rows × 1 columns</p>\n",
       "</div>"
      ],
      "text/plain": [
       "                                         ambient profile\n",
       "barcode                                                 \n",
       "IndexE_Bit1_F_155-Bit2_F_042-Bit3_F_446         0.002119\n",
       "IndexE_Bit1_F_463-Bit2_F_150-Bit3_F_067         0.000900\n",
       "IndexE_Bit1_F_063-Bit2_F_372-Bit3_F_369         0.001067\n",
       "IndexE_Bit1_F_408-Bit2_F_030-Bit3_F_263         0.000637\n",
       "IndexE_Bit1_F_215-Bit2_F_317-Bit3_F_302         0.001898\n",
       "...                                                  ...\n",
       "Index1_Bit1_F_214-Bit2_F_095-Bit3_F_335         0.000000\n",
       "Index1_Bit1_F_438-Bit2_F_087-Bit3_F_366         0.000000\n",
       "Index1_Bit1_F_016-Bit2_F_111-Bit3_F_387         0.000014\n",
       "IndexE_Bit1_F_439-Bit2_F_252-Bit3_F_186         0.000014\n",
       "IndexE_Bit1_F_238-Bit2_F_363-Bit3_F_163         0.000000\n",
       "\n",
       "[3975 rows x 1 columns]"
      ]
     },
     "execution_count": 100,
     "metadata": {},
     "output_type": "execute_result"
    }
   ],
   "source": [
    "ambient_profile"
   ]
  },
  {
   "cell_type": "code",
   "execution_count": 103,
   "id": "2a7c688b-06d7-46d8-b723-932957eb854e",
   "metadata": {},
   "outputs": [
    {
     "name": "stdout",
     "output_type": "stream",
     "text": [
      "..Running VAE using the following param set:\n",
      "......denoised count type:  sgRNAs\n",
      "......count model:  binomial\n",
      "......num_input_feature:  3975\n",
      "......NN_layer1:  150\n",
      "......NN_layer2:  100\n",
      "......latent_space:  15\n",
      "......dropout_prob:  0\n",
      "......expected data sparsity:  1\n",
      "......kld_weight:  1e-05\n",
      "......lr:  0.001\n",
      "......lr_step_size:  5\n",
      "......lr_gamma:  0.97\n",
      "===========================================\n",
      "  Training.....\n",
      "100%|██████████████████████████████████████████████████████████████████████████████████████████████████████████████████████████████████████████████████████████████████████████████████████████████████████████████| 100/100 [04:34<00:00,  2.75s/it]\n",
      "===========================================\n",
      "  Inferring .....\n"
     ]
    }
   ],
   "source": [
    "sgRNAs = model(raw_count = raw_bc.T,\n",
    "               ambient_profile = ambient_profile,\n",
    "               feature_type = 'sgRNAs')\n",
    "\n",
    "sgRNAs.train(epochs=100,\n",
    "             batch_size=64,\n",
    "             verbose=True)\n",
    "\n",
    "sgRNAs.inference(cutoff=3)"
   ]
  },
  {
   "cell_type": "code",
   "execution_count": 104,
   "id": "7add4d41-0ddc-4bb9-9fff-79f2258b9b44",
   "metadata": {},
   "outputs": [
    {
     "data": {
      "text/html": [
       "<div>\n",
       "<style scoped>\n",
       "    .dataframe tbody tr th:only-of-type {\n",
       "        vertical-align: middle;\n",
       "    }\n",
       "\n",
       "    .dataframe tbody tr th {\n",
       "        vertical-align: top;\n",
       "    }\n",
       "\n",
       "    .dataframe thead th {\n",
       "        text-align: right;\n",
       "    }\n",
       "</style>\n",
       "<table border=\"1\" class=\"dataframe\">\n",
       "  <thead>\n",
       "    <tr style=\"text-align: right;\">\n",
       "      <th></th>\n",
       "      <th>sgRNAs</th>\n",
       "      <th>n_sgRNAs</th>\n",
       "    </tr>\n",
       "  </thead>\n",
       "  <tbody>\n",
       "    <tr>\n",
       "      <th>AAACCCAAGCGATGGT</th>\n",
       "      <td>IndexE_Bit1_F_215-Bit2_F_317-Bit3_F_302</td>\n",
       "      <td>1</td>\n",
       "    </tr>\n",
       "    <tr>\n",
       "      <th>AAACCCAAGCGCCGTT</th>\n",
       "      <td>IndexE_Bit1_F_055-Bit2_F_112-Bit3_F_332</td>\n",
       "      <td>1</td>\n",
       "    </tr>\n",
       "    <tr>\n",
       "      <th>AAACCCAAGGGTGAGG</th>\n",
       "      <td>IndexE_Bit1_F_200-Bit2_F_272-Bit3_F_165</td>\n",
       "      <td>1</td>\n",
       "    </tr>\n",
       "    <tr>\n",
       "      <th>AAACCCAAGGTCGAGT</th>\n",
       "      <td>IndexE_Bit1_F_154-Bit2_F_054-Bit3_F_280</td>\n",
       "      <td>1</td>\n",
       "    </tr>\n",
       "    <tr>\n",
       "      <th>AAACCCAAGTGCACCC</th>\n",
       "      <td>IndexE_Bit1_F_406-Bit2_F_378-Bit3_F_157</td>\n",
       "      <td>1</td>\n",
       "    </tr>\n",
       "    <tr>\n",
       "      <th>...</th>\n",
       "      <td>...</td>\n",
       "      <td>...</td>\n",
       "    </tr>\n",
       "    <tr>\n",
       "      <th>TTTGTTGGTTAGGCCC</th>\n",
       "      <td>IndexE_Bit1_F_384-Bit2_F_005-Bit3_F_483</td>\n",
       "      <td>1</td>\n",
       "    </tr>\n",
       "    <tr>\n",
       "      <th>TTTGTTGTCAAGGCTT</th>\n",
       "      <td>IndexE_Bit1_F_111-Bit2_F_083-Bit3_F_242</td>\n",
       "      <td>1</td>\n",
       "    </tr>\n",
       "    <tr>\n",
       "      <th>TTTGTTGTCATACGAC</th>\n",
       "      <td>IndexE_Bit1_F_115-Bit2_F_171-Bit3_F_111</td>\n",
       "      <td>1</td>\n",
       "    </tr>\n",
       "    <tr>\n",
       "      <th>TTTGTTGTCCGTACGG</th>\n",
       "      <td>IndexE_Bit1_F_475-Bit2_F_326-Bit3_F_217</td>\n",
       "      <td>1</td>\n",
       "    </tr>\n",
       "    <tr>\n",
       "      <th>TTTGTTGTCGGAAGGT</th>\n",
       "      <td>IndexE_Bit1_F_130-Bit2_F_152-Bit3_F_154</td>\n",
       "      <td>1</td>\n",
       "    </tr>\n",
       "  </tbody>\n",
       "</table>\n",
       "<p>16127 rows × 2 columns</p>\n",
       "</div>"
      ],
      "text/plain": [
       "                                                   sgRNAs n_sgRNAs\n",
       "AAACCCAAGCGATGGT  IndexE_Bit1_F_215-Bit2_F_317-Bit3_F_302        1\n",
       "AAACCCAAGCGCCGTT  IndexE_Bit1_F_055-Bit2_F_112-Bit3_F_332        1\n",
       "AAACCCAAGGGTGAGG  IndexE_Bit1_F_200-Bit2_F_272-Bit3_F_165        1\n",
       "AAACCCAAGGTCGAGT  IndexE_Bit1_F_154-Bit2_F_054-Bit3_F_280        1\n",
       "AAACCCAAGTGCACCC  IndexE_Bit1_F_406-Bit2_F_378-Bit3_F_157        1\n",
       "...                                                   ...      ...\n",
       "TTTGTTGGTTAGGCCC  IndexE_Bit1_F_384-Bit2_F_005-Bit3_F_483        1\n",
       "TTTGTTGTCAAGGCTT  IndexE_Bit1_F_111-Bit2_F_083-Bit3_F_242        1\n",
       "TTTGTTGTCATACGAC  IndexE_Bit1_F_115-Bit2_F_171-Bit3_F_111        1\n",
       "TTTGTTGTCCGTACGG  IndexE_Bit1_F_475-Bit2_F_326-Bit3_F_217        1\n",
       "TTTGTTGTCGGAAGGT  IndexE_Bit1_F_130-Bit2_F_152-Bit3_F_154        1\n",
       "\n",
       "[16127 rows x 2 columns]"
      ]
     },
     "execution_count": 104,
     "metadata": {},
     "output_type": "execute_result"
    }
   ],
   "source": [
    "sgRNAs.feature_assignment"
   ]
  },
  {
   "cell_type": "code",
   "execution_count": 105,
   "id": "d724bd34-0c2d-4ad4-bbf1-63c0dda8d38f",
   "metadata": {},
   "outputs": [
    {
     "ename": "ValueError",
     "evalue": "Lengths must match to compare",
     "output_type": "error",
     "traceback": [
      "\u001b[0;31m---------------------------------------------------------------------------\u001b[0m",
      "\u001b[0;31mValueError\u001b[0m                                Traceback (most recent call last)",
      "Cell \u001b[0;32mIn [105], line 1\u001b[0m\n\u001b[0;32m----> 1\u001b[0m \u001b[43madata\u001b[49m\u001b[38;5;241;43m.\u001b[39;49m\u001b[43mobsm\u001b[49m\u001b[43m[\u001b[49m\u001b[38;5;124;43m\"\u001b[39;49m\u001b[38;5;124;43mX_scar_assignment_3\u001b[39;49m\u001b[38;5;124;43m\"\u001b[39;49m\u001b[43m]\u001b[49m \u001b[38;5;241m=\u001b[39m sgRNAs\u001b[38;5;241m.\u001b[39mfeature_assignment\n",
      "File \u001b[0;32m~/miniconda3/envs/venv/lib/python3.8/site-packages/anndata/_core/aligned_mapping.py:151\u001b[0m, in \u001b[0;36mAlignedActualMixin.__setitem__\u001b[0;34m(self, key, value)\u001b[0m\n\u001b[1;32m    150\u001b[0m \u001b[38;5;28;01mdef\u001b[39;00m \u001b[38;5;21m__setitem__\u001b[39m(\u001b[38;5;28mself\u001b[39m, key: \u001b[38;5;28mstr\u001b[39m, value: V):\n\u001b[0;32m--> 151\u001b[0m     value \u001b[38;5;241m=\u001b[39m \u001b[38;5;28;43mself\u001b[39;49m\u001b[38;5;241;43m.\u001b[39;49m\u001b[43m_validate_value\u001b[49m\u001b[43m(\u001b[49m\u001b[43mvalue\u001b[49m\u001b[43m,\u001b[49m\u001b[43m \u001b[49m\u001b[43mkey\u001b[49m\u001b[43m)\u001b[49m\n\u001b[1;32m    152\u001b[0m     \u001b[38;5;28mself\u001b[39m\u001b[38;5;241m.\u001b[39m_data[key] \u001b[38;5;241m=\u001b[39m value\n",
      "File \u001b[0;32m~/miniconda3/envs/venv/lib/python3.8/site-packages/anndata/_core/aligned_mapping.py:209\u001b[0m, in \u001b[0;36mAxisArraysBase._validate_value\u001b[0;34m(self, val, key)\u001b[0m\n\u001b[1;32m    205\u001b[0m \u001b[38;5;28;01mdef\u001b[39;00m \u001b[38;5;21m_validate_value\u001b[39m(\u001b[38;5;28mself\u001b[39m, val: V, key: \u001b[38;5;28mstr\u001b[39m) \u001b[38;5;241m-\u001b[39m\u001b[38;5;241m>\u001b[39m V:\n\u001b[1;32m    206\u001b[0m     \u001b[38;5;28;01mif\u001b[39;00m (\n\u001b[1;32m    207\u001b[0m         \u001b[38;5;28mhasattr\u001b[39m(val, \u001b[38;5;124m\"\u001b[39m\u001b[38;5;124mindex\u001b[39m\u001b[38;5;124m\"\u001b[39m)\n\u001b[1;32m    208\u001b[0m         \u001b[38;5;129;01mand\u001b[39;00m \u001b[38;5;28misinstance\u001b[39m(val\u001b[38;5;241m.\u001b[39mindex, cabc\u001b[38;5;241m.\u001b[39mCollection)\n\u001b[0;32m--> 209\u001b[0m         \u001b[38;5;129;01mand\u001b[39;00m \u001b[38;5;129;01mnot\u001b[39;00m (\u001b[43mval\u001b[49m\u001b[38;5;241;43m.\u001b[39;49m\u001b[43mindex\u001b[49m\u001b[43m \u001b[49m\u001b[38;5;241;43m==\u001b[39;49m\u001b[43m \u001b[49m\u001b[38;5;28;43mself\u001b[39;49m\u001b[38;5;241;43m.\u001b[39;49m\u001b[43mdim_names\u001b[49m)\u001b[38;5;241m.\u001b[39mall()\n\u001b[1;32m    210\u001b[0m     ):\n\u001b[1;32m    211\u001b[0m         \u001b[38;5;66;03m# Could probably also re-order index if it’s contained\u001b[39;00m\n\u001b[1;32m    212\u001b[0m         \u001b[38;5;28;01mraise\u001b[39;00m \u001b[38;5;167;01mValueError\u001b[39;00m(\n\u001b[1;32m    213\u001b[0m             \u001b[38;5;124mf\u001b[39m\u001b[38;5;124m\"\u001b[39m\u001b[38;5;124mvalue.index does not match parent’s axis \u001b[39m\u001b[38;5;132;01m{\u001b[39;00m\u001b[38;5;28mself\u001b[39m\u001b[38;5;241m.\u001b[39maxes[\u001b[38;5;241m0\u001b[39m]\u001b[38;5;132;01m}\u001b[39;00m\u001b[38;5;124m names\u001b[39m\u001b[38;5;124m\"\u001b[39m\n\u001b[1;32m    214\u001b[0m         )\n\u001b[1;32m    215\u001b[0m     \u001b[38;5;28;01mreturn\u001b[39;00m \u001b[38;5;28msuper\u001b[39m()\u001b[38;5;241m.\u001b[39m_validate_value(val, key)\n",
      "File \u001b[0;32m~/miniconda3/envs/venv/lib/python3.8/site-packages/pandas/core/ops/common.py:70\u001b[0m, in \u001b[0;36m_unpack_zerodim_and_defer.<locals>.new_method\u001b[0;34m(self, other)\u001b[0m\n\u001b[1;32m     66\u001b[0m             \u001b[38;5;28;01mreturn\u001b[39;00m \u001b[38;5;28mNotImplemented\u001b[39m\n\u001b[1;32m     68\u001b[0m other \u001b[38;5;241m=\u001b[39m item_from_zerodim(other)\n\u001b[0;32m---> 70\u001b[0m \u001b[38;5;28;01mreturn\u001b[39;00m \u001b[43mmethod\u001b[49m\u001b[43m(\u001b[49m\u001b[38;5;28;43mself\u001b[39;49m\u001b[43m,\u001b[49m\u001b[43m \u001b[49m\u001b[43mother\u001b[49m\u001b[43m)\u001b[49m\n",
      "File \u001b[0;32m~/miniconda3/envs/venv/lib/python3.8/site-packages/pandas/core/arraylike.py:40\u001b[0m, in \u001b[0;36mOpsMixin.__eq__\u001b[0;34m(self, other)\u001b[0m\n\u001b[1;32m     38\u001b[0m \u001b[38;5;129m@unpack_zerodim_and_defer\u001b[39m(\u001b[38;5;124m\"\u001b[39m\u001b[38;5;124m__eq__\u001b[39m\u001b[38;5;124m\"\u001b[39m)\n\u001b[1;32m     39\u001b[0m \u001b[38;5;28;01mdef\u001b[39;00m \u001b[38;5;21m__eq__\u001b[39m(\u001b[38;5;28mself\u001b[39m, other):\n\u001b[0;32m---> 40\u001b[0m     \u001b[38;5;28;01mreturn\u001b[39;00m \u001b[38;5;28;43mself\u001b[39;49m\u001b[38;5;241;43m.\u001b[39;49m\u001b[43m_cmp_method\u001b[49m\u001b[43m(\u001b[49m\u001b[43mother\u001b[49m\u001b[43m,\u001b[49m\u001b[43m \u001b[49m\u001b[43moperator\u001b[49m\u001b[38;5;241;43m.\u001b[39;49m\u001b[43meq\u001b[49m\u001b[43m)\u001b[49m\n",
      "File \u001b[0;32m~/miniconda3/envs/venv/lib/python3.8/site-packages/pandas/core/indexes/base.py:6689\u001b[0m, in \u001b[0;36mIndex._cmp_method\u001b[0;34m(self, other, op)\u001b[0m\n\u001b[1;32m   6684\u001b[0m         \u001b[38;5;28;01mreturn\u001b[39;00m arr\n\u001b[1;32m   6686\u001b[0m \u001b[38;5;28;01mif\u001b[39;00m \u001b[38;5;28misinstance\u001b[39m(other, (np\u001b[38;5;241m.\u001b[39mndarray, Index, ABCSeries, ExtensionArray)) \u001b[38;5;129;01mand\u001b[39;00m \u001b[38;5;28mlen\u001b[39m(\n\u001b[1;32m   6687\u001b[0m     \u001b[38;5;28mself\u001b[39m\n\u001b[1;32m   6688\u001b[0m ) \u001b[38;5;241m!=\u001b[39m \u001b[38;5;28mlen\u001b[39m(other):\n\u001b[0;32m-> 6689\u001b[0m     \u001b[38;5;28;01mraise\u001b[39;00m \u001b[38;5;167;01mValueError\u001b[39;00m(\u001b[38;5;124m\"\u001b[39m\u001b[38;5;124mLengths must match to compare\u001b[39m\u001b[38;5;124m\"\u001b[39m)\n\u001b[1;32m   6691\u001b[0m \u001b[38;5;28;01mif\u001b[39;00m \u001b[38;5;129;01mnot\u001b[39;00m \u001b[38;5;28misinstance\u001b[39m(other, ABCMultiIndex):\n\u001b[1;32m   6692\u001b[0m     other \u001b[38;5;241m=\u001b[39m extract_array(other, extract_numpy\u001b[38;5;241m=\u001b[39m\u001b[38;5;28;01mTrue\u001b[39;00m)\n",
      "\u001b[0;31mValueError\u001b[0m: Lengths must match to compare"
     ]
    }
   ],
   "source": [
    "adata.obsm[\"X_scar_assignment_3\"] = sgRNAs.feature_assignment "
   ]
  },
  {
   "cell_type": "code",
   "execution_count": null,
   "id": "479714f3-27db-4a18-8cec-a2d18d4d912e",
   "metadata": {},
   "outputs": [],
   "source": []
  }
 ],
 "metadata": {
  "kernelspec": {
   "display_name": "venv",
   "language": "python",
   "name": "venv"
  },
  "language_info": {
   "codemirror_mode": {
    "name": "ipython",
    "version": 3
   },
   "file_extension": ".py",
   "mimetype": "text/x-python",
   "name": "python",
   "nbconvert_exporter": "python",
   "pygments_lexer": "ipython3",
   "version": "3.8.13"
  }
 },
 "nbformat": 4,
 "nbformat_minor": 5
}
