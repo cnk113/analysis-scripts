{
 "cells": [
  {
   "cell_type": "code",
   "execution_count": 1,
   "id": "59301960-aa1b-4643-845b-7800a9955332",
   "metadata": {},
   "outputs": [],
   "source": [
    "import numpy as np\n",
    "import pandas as pd\n",
    "\n",
    "import matplotlib.pyplot as plt\n",
    "import seaborn as sns\n",
    "import psix\n",
    "import matplotlib as mpl"
   ]
  },
  {
   "cell_type": "code",
   "execution_count": 2,
   "id": "5b32473a-7b8b-4b44-af3f-336266db2d1a",
   "metadata": {},
   "outputs": [
    {
     "name": "stdout",
     "output_type": "stream",
     "text": [
      "Processing STARsolo output. This might take a few minutes...\n",
      "Obtaining PSI tables...\n",
      "Successfully processed RNA-seq data\n"
     ]
    }
   ],
   "source": [
    "psix_object = psix.Psix()\n",
    "psix_object.junctions2psi(\n",
    "        sj_dir='/media/chang/HDD-6/chang/new_slr/concat_internal/no_twopass/bam_realign/Solo.out/SJ/raw',\n",
    "        intron_file='~/sc_splicing_tools/psix_annotation.tab',\n",
    "        save_files_in='/media/chang/HDD-6/chang/new_slr/concat_internal/no_twopass/psix_out/',\n",
    "        tenX = True, solo = True,\n",
    "        minPsi=0.01,\n",
    "        min_observed = 0.01\n",
    "    )"
   ]
  },
  {
   "cell_type": "code",
   "execution_count": 3,
   "id": "fcd9ada6-c49f-4260-b65c-942303393f6f",
   "metadata": {},
   "outputs": [
    {
     "data": {
      "text/html": [
       "<div>\n",
       "<style scoped>\n",
       "    .dataframe tbody tr th:only-of-type {\n",
       "        vertical-align: middle;\n",
       "    }\n",
       "\n",
       "    .dataframe tbody tr th {\n",
       "        vertical-align: top;\n",
       "    }\n",
       "\n",
       "    .dataframe thead th {\n",
       "        text-align: right;\n",
       "    }\n",
       "</style>\n",
       "<table border=\"1\" class=\"dataframe\">\n",
       "  <thead>\n",
       "    <tr style=\"text-align: right;\">\n",
       "      <th></th>\n",
       "    </tr>\n",
       "  </thead>\n",
       "  <tbody>\n",
       "    <tr>\n",
       "      <th>AAACCCAAGAGATTCA</th>\n",
       "    </tr>\n",
       "    <tr>\n",
       "      <th>AAACCCAAGGAATCGC</th>\n",
       "    </tr>\n",
       "    <tr>\n",
       "      <th>AAACCCAAGTCCTACA</th>\n",
       "    </tr>\n",
       "    <tr>\n",
       "      <th>AAACCCAAGTCTACCA</th>\n",
       "    </tr>\n",
       "    <tr>\n",
       "      <th>AAACCCAGTAGGCTCC</th>\n",
       "    </tr>\n",
       "    <tr>\n",
       "      <th>...</th>\n",
       "    </tr>\n",
       "    <tr>\n",
       "      <th>TTTGTTGGTGGCTGCT</th>\n",
       "    </tr>\n",
       "    <tr>\n",
       "      <th>TTTGTTGGTGTAGTGG</th>\n",
       "    </tr>\n",
       "    <tr>\n",
       "      <th>TTTGTTGTCGCTAATG</th>\n",
       "    </tr>\n",
       "    <tr>\n",
       "      <th>TTTGTTGTCGGCATCG</th>\n",
       "    </tr>\n",
       "    <tr>\n",
       "      <th>TTTGTTGTCTTGAACG</th>\n",
       "    </tr>\n",
       "  </tbody>\n",
       "</table>\n",
       "<p>12745 rows × 0 columns</p>\n",
       "</div>"
      ],
      "text/plain": [
       "Empty DataFrame\n",
       "Columns: []\n",
       "Index: [AAACCCAAGAGATTCA, AAACCCAAGGAATCGC, AAACCCAAGTCCTACA, AAACCCAAGTCTACCA, AAACCCAGTAGGCTCC, AAACCCAGTATTCTCT, AAACCCATCACGATAC, AAACCCATCTTAGCCC, AAACGAAAGATACCAA, AAACGAAAGTGCAAAT, AAACGAACAAAGCTAA, AAACGAACAAAGGCTG, AAACGAACAAATTGGA, AAACGAACAGTGGCTC, AAACGAACATCCTTCG, AAACGAAGTAGCTTGT, AAACGAAGTCCAGAAG, AAACGAAGTGAGGAAA, AAACGAAGTGCCTTTC, AAACGAAGTGGGTATG, AAACGAAGTGTGTACT, AAACGAAGTTAGTCGT, AAACGAAGTTGCTCCT, AAACGAAGTTTACACG, AAACGAATCAAACTGC, AAACGAATCAAGTGTC, AAACGAATCACTACGA, AAACGAATCACTCTTA, AAACGAATCATCGCCT, AAACGAATCATGCCAA, AAACGAATCGAGCCTG, AAACGAATCGAGGCAA, AAACGAATCGCTCTAC, AAACGAATCTTCGCTG, AAACGCTAGTTAGAAC, AAACGCTCACAAATCC, AAACGCTCAGGACGAT, AAACGCTTCGTAACAC, AAACGCTTCGTCTCAC, AAAGAACAGCGAGGAG, AAAGAACAGTCTGGAG, AAAGAACAGTTCCTGA, AAAGAACCATCGAAGG, AAAGAACCATCGATGT, AAAGAACCATCTTTCA, AAAGAACGTCGGCTAC, AAAGAACGTCTACGTA, AAAGAACTCCACACAA, AAAGAACTCCACGAAT, AAAGAACTCGATACGT, AAAGGATAGAGCTGAC, AAAGGATAGTACGTCT, AAAGGATAGTAGGGTC, AAAGGATCAATAGGGC, AAAGGATGTATACGGG, AAAGGATGTGTCCAAT, AAAGGATTCCAAGCCG, AAAGGATTCCCGATCT, AAAGGATTCCGCACTT, AAAGGATTCGGACGTC, AAAGGATTCTACGCGG, AAAGGGCAGTAAGACT, AAAGGGCCAATCGCCG, AAAGGGCCACGACGTC, AAAGGGCCACTACGGC, AAAGGGCCACTATCGA, AAAGGGCTCGAGGCAA, AAAGGGCTCTTACCAT, AAAGGTAAGAATCCCT, AAAGGTAAGCTCTTCC, AAAGGTAAGGAGAGGC, AAAGGTACAAGCGCTC, AAAGGTACAATCCTAG, AAAGGTACAGCTATTG, AAAGGTACAGGTTCAT, AAAGGTAGTACGCTTA, AAAGGTAGTCCGTTTC, AAAGGTAGTTAATGAG, AAAGGTATCGCTGTTC, AAAGGTATCGGAACTT, AAAGGTATCTACTCAT, AAAGGTATCTGCAGCG, AAAGGTATCTTTCTAG, AAAGTCCAGTAATTGG, AAAGTCCAGTCTGCGC, AAAGTCCCAACCGGAA, AAAGTCCCACCAATTG, AAAGTCCCAGAACGCA, AAAGTCCCATGATGCT, AAAGTCCCATTCACAG, AAAGTCCGTCACTTCC, AAAGTCCGTGAGTAGC, AAAGTCCGTGTTCAGT, AAAGTCCTCACTGAAC, AAAGTCCTCCATTGCC, AAAGTCCTCTTTGGAG, AAAGTGAAGATCCCAT, AAAGTGAAGGTAGCAC, AAAGTGAAGTAACCGG, AAAGTGAAGTCATCCA, ...]\n",
       "\n",
       "[12745 rows x 0 columns]"
      ]
     },
     "execution_count": 3,
     "metadata": {},
     "output_type": "execute_result"
    }
   ],
   "source": [
    "psix_object.adata.uns['mrna_per_event']"
   ]
  },
  {
   "cell_type": "code",
   "execution_count": 7,
   "id": "587de4ab-eb0f-4db5-b8bc-75df9497d500",
   "metadata": {},
   "outputs": [
    {
     "name": "stdout",
     "output_type": "stream",
     "text": [
      "Computing cell-cell metric...\n"
     ]
    },
    {
     "name": "stderr",
     "output_type": "stream",
     "text": [
      "100%|██████████| 8507/8507 [00:00<00:00, 8797.81it/s] "
     ]
    },
    {
     "name": "stdout",
     "output_type": "stream",
     "text": [
      "Successfully computed cell-cell metric\n",
      "Computing Psix score in 0 exons\n"
     ]
    },
    {
     "name": "stderr",
     "output_type": "stream",
     "text": [
      "\n"
     ]
    },
    {
     "ename": "ValueError",
     "evalue": "Chunksize must be 1+, not 0",
     "output_type": "error",
     "traceback": [
      "\u001b[0;31m---------------------------------------------------------------------------\u001b[0m",
      "\u001b[0;31mValueError\u001b[0m                                Traceback (most recent call last)",
      "\u001b[0;32m<ipython-input-7-f2e1eaa83298>\u001b[0m in \u001b[0;36m<module>\u001b[0;34m\u001b[0m\n\u001b[1;32m      2\u001b[0m                      \u001b[0mn_random_exons\u001b[0m\u001b[0;34m=\u001b[0m\u001b[0;36m2000\u001b[0m\u001b[0;34m,\u001b[0m\u001b[0;34m\u001b[0m\u001b[0;34m\u001b[0m\u001b[0m\n\u001b[1;32m      3\u001b[0m                      \u001b[0mn_neighbors\u001b[0m\u001b[0;34m=\u001b[0m\u001b[0;36m100\u001b[0m\u001b[0;34m,\u001b[0m\u001b[0;34m\u001b[0m\u001b[0;34m\u001b[0m\u001b[0m\n\u001b[0;32m----> 4\u001b[0;31m                      \u001b[0mn_jobs\u001b[0m\u001b[0;34m=\u001b[0m\u001b[0;36m32\u001b[0m\u001b[0;34m\u001b[0m\u001b[0;34m\u001b[0m\u001b[0m\n\u001b[0m\u001b[1;32m      5\u001b[0m                      )\n",
      "\u001b[0;32m~/miniconda3/envs/venv/lib/python3.7/site-packages/psix/psix.py\u001b[0m in \u001b[0;36mrun_psix\u001b[0;34m(self, n_jobs, capture_efficiency, min_probability, seed, pvals_bins, n_random_exons, latent, n_neighbors, weight_metric, turbo)\u001b[0m\n\u001b[1;32m    159\u001b[0m                         \u001b[0mn_neighbors\u001b[0m \u001b[0;34m=\u001b[0m \u001b[0mn_neighbors\u001b[0m\u001b[0;34m,\u001b[0m\u001b[0;34m\u001b[0m\u001b[0;34m\u001b[0m\u001b[0m\n\u001b[1;32m    160\u001b[0m                         \u001b[0mweight_metric\u001b[0m \u001b[0;34m=\u001b[0m \u001b[0mweight_metric\u001b[0m\u001b[0;34m,\u001b[0m\u001b[0;34m\u001b[0m\u001b[0;34m\u001b[0m\u001b[0m\n\u001b[0;32m--> 161\u001b[0;31m                         \u001b[0mturbo\u001b[0m \u001b[0;34m=\u001b[0m \u001b[0mturbo\u001b[0m\u001b[0;34m\u001b[0m\u001b[0;34m\u001b[0m\u001b[0m\n\u001b[0m\u001b[1;32m    162\u001b[0m                        )\n\u001b[1;32m    163\u001b[0m \u001b[0;34m\u001b[0m\u001b[0m\n",
      "\u001b[0;32m~/miniconda3/envs/venv/lib/python3.7/site-packages/psix/score_functions.py\u001b[0m in \u001b[0;36mcompute_psix_scores\u001b[0;34m(self, n_jobs, capture_efficiency, min_probability, seed, pvals_bins, n_random_exons, latent, n_neighbors, weight_metric, turbo)\u001b[0m\n\u001b[1;32m     64\u001b[0m             exon_score_array = list(\n\u001b[1;32m     65\u001b[0m                 tqdm(\n\u001b[0;32m---> 66\u001b[0;31m                     \u001b[0mpool\u001b[0m\u001b[0;34m.\u001b[0m\u001b[0mimap\u001b[0m\u001b[0;34m(\u001b[0m\u001b[0mpsix_score_parallel\u001b[0m\u001b[0;34m,\u001b[0m \u001b[0mexon_list\u001b[0m\u001b[0;34m,\u001b[0m \u001b[0mchunksize\u001b[0m\u001b[0;34m=\u001b[0m\u001b[0mchunksize\u001b[0m\u001b[0;34m)\u001b[0m\u001b[0;34m,\u001b[0m\u001b[0;34m\u001b[0m\u001b[0;34m\u001b[0m\u001b[0m\n\u001b[0m\u001b[1;32m     67\u001b[0m                     \u001b[0mtotal\u001b[0m\u001b[0;34m=\u001b[0m\u001b[0mlen\u001b[0m\u001b[0;34m(\u001b[0m\u001b[0mexon_list\u001b[0m\u001b[0;34m)\u001b[0m\u001b[0;34m,\u001b[0m \u001b[0mposition\u001b[0m\u001b[0;34m=\u001b[0m\u001b[0;36m0\u001b[0m\u001b[0;34m,\u001b[0m \u001b[0mleave\u001b[0m\u001b[0;34m=\u001b[0m\u001b[0;32mTrue\u001b[0m\u001b[0;34m\u001b[0m\u001b[0;34m\u001b[0m\u001b[0m\n\u001b[1;32m     68\u001b[0m                 )\n",
      "\u001b[0;32m~/miniconda3/envs/venv/lib/python3.7/multiprocessing/pool.py\u001b[0m in \u001b[0;36mimap\u001b[0;34m(self, func, iterable, chunksize)\u001b[0m\n\u001b[1;32m    313\u001b[0m                 raise ValueError(\n\u001b[1;32m    314\u001b[0m                     \"Chunksize must be 1+, not {0:n}\".format(\n\u001b[0;32m--> 315\u001b[0;31m                         chunksize))\n\u001b[0m\u001b[1;32m    316\u001b[0m             \u001b[0mtask_batches\u001b[0m \u001b[0;34m=\u001b[0m \u001b[0mPool\u001b[0m\u001b[0;34m.\u001b[0m\u001b[0m_get_tasks\u001b[0m\u001b[0;34m(\u001b[0m\u001b[0mfunc\u001b[0m\u001b[0;34m,\u001b[0m \u001b[0miterable\u001b[0m\u001b[0;34m,\u001b[0m \u001b[0mchunksize\u001b[0m\u001b[0;34m)\u001b[0m\u001b[0;34m\u001b[0m\u001b[0;34m\u001b[0m\u001b[0m\n\u001b[1;32m    317\u001b[0m             \u001b[0mresult\u001b[0m \u001b[0;34m=\u001b[0m \u001b[0mIMapIterator\u001b[0m\u001b[0;34m(\u001b[0m\u001b[0mself\u001b[0m\u001b[0;34m.\u001b[0m\u001b[0m_cache\u001b[0m\u001b[0;34m)\u001b[0m\u001b[0;34m\u001b[0m\u001b[0;34m\u001b[0m\u001b[0m\n",
      "\u001b[0;31mValueError\u001b[0m: Chunksize must be 1+, not 0"
     ]
    }
   ],
   "source": [
    "psix_object.run_psix(latent='/media/chang/HDD-6/chang/new_slr/concat_internal/lda_latent.tab', \n",
    "                     n_random_exons=2000, \n",
    "                     n_neighbors=100,\n",
    "                     n_jobs=32\n",
    "                     )"
   ]
  },
  {
   "cell_type": "code",
   "execution_count": null,
   "id": "f7ff777e-f254-42c1-b045-8501d208a89a",
   "metadata": {},
   "outputs": [],
   "source": [
    "psix_object.save_psix_object(psix_dir = '/media/chang/HDD-6/chang/new_slr/concat_internal/psix_output/', overwrite=True)"
   ]
  }
 ],
 "metadata": {
  "kernelspec": {
   "display_name": "venv",
   "language": "python",
   "name": "venv"
  },
  "language_info": {
   "codemirror_mode": {
    "name": "ipython",
    "version": 3
   },
   "file_extension": ".py",
   "mimetype": "text/x-python",
   "name": "python",
   "nbconvert_exporter": "python",
   "pygments_lexer": "ipython3",
   "version": "3.7.10"
  }
 },
 "nbformat": 4,
 "nbformat_minor": 5
}
